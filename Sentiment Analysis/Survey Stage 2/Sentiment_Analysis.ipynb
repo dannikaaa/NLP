{
  "nbformat": 4,
  "nbformat_minor": 0,
  "metadata": {
    "colab": {
      "name": "Sentiment Analysis.ipynb",
      "provenance": [],
      "collapsed_sections": []
    },
    "kernelspec": {
      "name": "python3",
      "display_name": "Python 3"
    }
  },
  "cells": [
    {
      "cell_type": "code",
      "metadata": {
        "id": "fUn-p1tcsQL3",
        "colab_type": "code",
        "colab": {}
      },
      "source": [
        "import pandas as pd\n",
        "import matplotlib.pyplot as plt\n",
        "import numpy as np\n",
        "import seaborn as sns"
      ],
      "execution_count": 0,
      "outputs": []
    },
    {
      "cell_type": "code",
      "metadata": {
        "id": "cKoJ285bvyvK",
        "colab_type": "code",
        "outputId": "ba5812bf-7d5a-4508-cd91-34bb6945a7b4",
        "colab": {
          "base_uri": "https://localhost:8080/",
          "height": 867
        }
      },
      "source": [
        "import nltk\n",
        "nltk.download('popular')"
      ],
      "execution_count": 0,
      "outputs": [
        {
          "output_type": "stream",
          "text": [
            "[nltk_data] Downloading collection 'popular'\n",
            "[nltk_data]    | \n",
            "[nltk_data]    | Downloading package cmudict to /root/nltk_data...\n",
            "[nltk_data]    |   Package cmudict is already up-to-date!\n",
            "[nltk_data]    | Downloading package gazetteers to /root/nltk_data...\n",
            "[nltk_data]    |   Package gazetteers is already up-to-date!\n",
            "[nltk_data]    | Downloading package genesis to /root/nltk_data...\n",
            "[nltk_data]    |   Package genesis is already up-to-date!\n",
            "[nltk_data]    | Downloading package gutenberg to /root/nltk_data...\n",
            "[nltk_data]    |   Package gutenberg is already up-to-date!\n",
            "[nltk_data]    | Downloading package inaugural to /root/nltk_data...\n",
            "[nltk_data]    |   Package inaugural is already up-to-date!\n",
            "[nltk_data]    | Downloading package movie_reviews to\n",
            "[nltk_data]    |     /root/nltk_data...\n",
            "[nltk_data]    |   Package movie_reviews is already up-to-date!\n",
            "[nltk_data]    | Downloading package names to /root/nltk_data...\n",
            "[nltk_data]    |   Package names is already up-to-date!\n",
            "[nltk_data]    | Downloading package shakespeare to /root/nltk_data...\n",
            "[nltk_data]    |   Package shakespeare is already up-to-date!\n",
            "[nltk_data]    | Downloading package stopwords to /root/nltk_data...\n",
            "[nltk_data]    |   Package stopwords is already up-to-date!\n",
            "[nltk_data]    | Downloading package treebank to /root/nltk_data...\n",
            "[nltk_data]    |   Package treebank is already up-to-date!\n",
            "[nltk_data]    | Downloading package twitter_samples to\n",
            "[nltk_data]    |     /root/nltk_data...\n",
            "[nltk_data]    |   Package twitter_samples is already up-to-date!\n",
            "[nltk_data]    | Downloading package omw to /root/nltk_data...\n",
            "[nltk_data]    |   Package omw is already up-to-date!\n",
            "[nltk_data]    | Downloading package wordnet to /root/nltk_data...\n",
            "[nltk_data]    |   Package wordnet is already up-to-date!\n",
            "[nltk_data]    | Downloading package wordnet_ic to /root/nltk_data...\n",
            "[nltk_data]    |   Package wordnet_ic is already up-to-date!\n",
            "[nltk_data]    | Downloading package words to /root/nltk_data...\n",
            "[nltk_data]    |   Package words is already up-to-date!\n",
            "[nltk_data]    | Downloading package maxent_ne_chunker to\n",
            "[nltk_data]    |     /root/nltk_data...\n",
            "[nltk_data]    |   Package maxent_ne_chunker is already up-to-date!\n",
            "[nltk_data]    | Downloading package punkt to /root/nltk_data...\n",
            "[nltk_data]    |   Package punkt is already up-to-date!\n",
            "[nltk_data]    | Downloading package snowball_data to\n",
            "[nltk_data]    |     /root/nltk_data...\n",
            "[nltk_data]    |   Package snowball_data is already up-to-date!\n",
            "[nltk_data]    | Downloading package averaged_perceptron_tagger to\n",
            "[nltk_data]    |     /root/nltk_data...\n",
            "[nltk_data]    |   Package averaged_perceptron_tagger is already up-\n",
            "[nltk_data]    |       to-date!\n",
            "[nltk_data]    | \n",
            "[nltk_data]  Done downloading collection popular\n"
          ],
          "name": "stdout"
        },
        {
          "output_type": "execute_result",
          "data": {
            "text/plain": [
              "True"
            ]
          },
          "metadata": {
            "tags": []
          },
          "execution_count": 104
        }
      ]
    },
    {
      "cell_type": "code",
      "metadata": {
        "id": "9titQZ2wwLsk",
        "colab_type": "code",
        "colab": {}
      },
      "source": [
        "df = pd.read_excel('UPCTEXT.xlsx', sheet_name = 'Sheet1')"
      ],
      "execution_count": 0,
      "outputs": []
    },
    {
      "cell_type": "code",
      "metadata": {
        "id": "iieRml5ixxWj",
        "colab_type": "code",
        "outputId": "20fdad7b-8f8f-43a5-8c07-c7107ef5e2e2",
        "colab": {
          "base_uri": "https://localhost:8080/",
          "height": 355
        }
      },
      "source": [
        "df.head(10)"
      ],
      "execution_count": 0,
      "outputs": [
        {
          "output_type": "execute_result",
          "data": {
            "text/html": [
              "<div>\n",
              "<style scoped>\n",
              "    .dataframe tbody tr th:only-of-type {\n",
              "        vertical-align: middle;\n",
              "    }\n",
              "\n",
              "    .dataframe tbody tr th {\n",
              "        vertical-align: top;\n",
              "    }\n",
              "\n",
              "    .dataframe thead th {\n",
              "        text-align: right;\n",
              "    }\n",
              "</style>\n",
              "<table border=\"1\" class=\"dataframe\">\n",
              "  <thead>\n",
              "    <tr style=\"text-align: right;\">\n",
              "      <th></th>\n",
              "      <th>ID</th>\n",
              "      <th>DISPLAY</th>\n",
              "      <th>text</th>\n",
              "      <th>Sentiment Score</th>\n",
              "      <th>Sentiment group</th>\n",
              "      <th>Topics</th>\n",
              "    </tr>\n",
              "  </thead>\n",
              "  <tbody>\n",
              "    <tr>\n",
              "      <th>0</th>\n",
              "      <td>2</td>\n",
              "      <td>CONTROL</td>\n",
              "      <td>The ad provided basic information that was not...</td>\n",
              "      <td>NaN</td>\n",
              "      <td>NaN</td>\n",
              "      <td>NaN</td>\n",
              "    </tr>\n",
              "    <tr>\n",
              "      <th>1</th>\n",
              "      <td>4</td>\n",
              "      <td>CONTROL</td>\n",
              "      <td>i think the ad was informative. i believe it i...</td>\n",
              "      <td>NaN</td>\n",
              "      <td>NaN</td>\n",
              "      <td>NaN</td>\n",
              "    </tr>\n",
              "    <tr>\n",
              "      <th>2</th>\n",
              "      <td>6</td>\n",
              "      <td>CONTROL</td>\n",
              "      <td>I think the add is about target marketing, and...</td>\n",
              "      <td>NaN</td>\n",
              "      <td>NaN</td>\n",
              "      <td>NaN</td>\n",
              "    </tr>\n",
              "    <tr>\n",
              "      <th>3</th>\n",
              "      <td>13</td>\n",
              "      <td>CONTROL</td>\n",
              "      <td>I think it's a good ad that highlights a major...</td>\n",
              "      <td>NaN</td>\n",
              "      <td>NaN</td>\n",
              "      <td>NaN</td>\n",
              "    </tr>\n",
              "    <tr>\n",
              "      <th>4</th>\n",
              "      <td>17</td>\n",
              "      <td>CONTROL</td>\n",
              "      <td>recycling is good.it is useful and helpful.it ...</td>\n",
              "      <td>NaN</td>\n",
              "      <td>NaN</td>\n",
              "      <td>NaN</td>\n",
              "    </tr>\n",
              "    <tr>\n",
              "      <th>5</th>\n",
              "      <td>18</td>\n",
              "      <td>CONTROL</td>\n",
              "      <td>I think it is a good idea to reuse plastic, ho...</td>\n",
              "      <td>NaN</td>\n",
              "      <td>NaN</td>\n",
              "      <td>NaN</td>\n",
              "    </tr>\n",
              "    <tr>\n",
              "      <th>6</th>\n",
              "      <td>20</td>\n",
              "      <td>CONTROL</td>\n",
              "      <td>I believe that the study was about recycling i...</td>\n",
              "      <td>NaN</td>\n",
              "      <td>NaN</td>\n",
              "      <td>NaN</td>\n",
              "    </tr>\n",
              "    <tr>\n",
              "      <th>7</th>\n",
              "      <td>21</td>\n",
              "      <td>CONTROL</td>\n",
              "      <td>survey is very good. this product is so good a...</td>\n",
              "      <td>NaN</td>\n",
              "      <td>NaN</td>\n",
              "      <td>NaN</td>\n",
              "    </tr>\n",
              "    <tr>\n",
              "      <th>8</th>\n",
              "      <td>23</td>\n",
              "      <td>CONTROL</td>\n",
              "      <td>I think it's a great idea but not a very attra...</td>\n",
              "      <td>NaN</td>\n",
              "      <td>NaN</td>\n",
              "      <td>NaN</td>\n",
              "    </tr>\n",
              "    <tr>\n",
              "      <th>9</th>\n",
              "      <td>27</td>\n",
              "      <td>CONTROL</td>\n",
              "      <td>The picture of the shoe seemed a little dark a...</td>\n",
              "      <td>NaN</td>\n",
              "      <td>NaN</td>\n",
              "      <td>NaN</td>\n",
              "    </tr>\n",
              "  </tbody>\n",
              "</table>\n",
              "</div>"
            ],
            "text/plain": [
              "   ID  DISPLAY  ... Sentiment group  Topics\n",
              "0   2  CONTROL  ...             NaN     NaN\n",
              "1   4  CONTROL  ...             NaN     NaN\n",
              "2   6  CONTROL  ...             NaN     NaN\n",
              "3  13  CONTROL  ...             NaN     NaN\n",
              "4  17  CONTROL  ...             NaN     NaN\n",
              "5  18  CONTROL  ...             NaN     NaN\n",
              "6  20  CONTROL  ...             NaN     NaN\n",
              "7  21  CONTROL  ...             NaN     NaN\n",
              "8  23  CONTROL  ...             NaN     NaN\n",
              "9  27  CONTROL  ...             NaN     NaN\n",
              "\n",
              "[10 rows x 6 columns]"
            ]
          },
          "metadata": {
            "tags": []
          },
          "execution_count": 106
        }
      ]
    },
    {
      "cell_type": "code",
      "metadata": {
        "id": "18TxAIzUyec_",
        "colab_type": "code",
        "outputId": "2a0ef875-c242-4efa-f4a0-a399f5d78828",
        "colab": {
          "base_uri": "https://localhost:8080/",
          "height": 139
        }
      },
      "source": [
        "df.isnull().sum()"
      ],
      "execution_count": 0,
      "outputs": [
        {
          "output_type": "execute_result",
          "data": {
            "text/plain": [
              "ID                   0\n",
              "DISPLAY              0\n",
              "text                 2\n",
              "Sentiment Score    303\n",
              "Sentiment group    303\n",
              "Topics             303\n",
              "dtype: int64"
            ]
          },
          "metadata": {
            "tags": []
          },
          "execution_count": 108
        }
      ]
    },
    {
      "cell_type": "code",
      "metadata": {
        "id": "JH05iTllyc4y",
        "colab_type": "code",
        "outputId": "26914ba9-b9d0-4981-e791-26fba333fc93",
        "colab": {
          "base_uri": "https://localhost:8080/",
          "height": 208
        }
      },
      "source": [
        "#replace the two rows that has nothin in it with no comment \n",
        "#maybe we can just leave it as it is\n",
        "df.info()"
      ],
      "execution_count": 0,
      "outputs": [
        {
          "output_type": "stream",
          "text": [
            "<class 'pandas.core.frame.DataFrame'>\n",
            "RangeIndex: 303 entries, 0 to 302\n",
            "Data columns (total 6 columns):\n",
            "ID                 303 non-null int64\n",
            "DISPLAY            303 non-null object\n",
            "text               301 non-null object\n",
            "Sentiment Score    0 non-null float64\n",
            "Sentiment group    0 non-null float64\n",
            "Topics             0 non-null float64\n",
            "dtypes: float64(3), int64(1), object(2)\n",
            "memory usage: 14.3+ KB\n"
          ],
          "name": "stdout"
        }
      ]
    },
    {
      "cell_type": "code",
      "metadata": {
        "id": "5ODxWxWN4wkh",
        "colab_type": "code",
        "colab": {}
      },
      "source": [
        "#change into string\n",
        "df['text'] = df['text'].astype('str')"
      ],
      "execution_count": 0,
      "outputs": []
    },
    {
      "cell_type": "code",
      "metadata": {
        "id": "_w436OsZ6Xp3",
        "colab_type": "code",
        "outputId": "5eee0f29-286d-498c-a55a-27c05a2f8bd4",
        "colab": {
          "base_uri": "https://localhost:8080/",
          "height": 415
        }
      },
      "source": [
        "#dropping 2 rows with ''\n",
        "string = ['']\n",
        "cleaned = df[~df['text'].isin(string)]\n",
        "cleaned.head(90)"
      ],
      "execution_count": 0,
      "outputs": [
        {
          "output_type": "execute_result",
          "data": {
            "text/html": [
              "<div>\n",
              "<style scoped>\n",
              "    .dataframe tbody tr th:only-of-type {\n",
              "        vertical-align: middle;\n",
              "    }\n",
              "\n",
              "    .dataframe tbody tr th {\n",
              "        vertical-align: top;\n",
              "    }\n",
              "\n",
              "    .dataframe thead th {\n",
              "        text-align: right;\n",
              "    }\n",
              "</style>\n",
              "<table border=\"1\" class=\"dataframe\">\n",
              "  <thead>\n",
              "    <tr style=\"text-align: right;\">\n",
              "      <th></th>\n",
              "      <th>ID</th>\n",
              "      <th>DISPLAY</th>\n",
              "      <th>text</th>\n",
              "      <th>Sentiment Score</th>\n",
              "      <th>Sentiment group</th>\n",
              "      <th>Topics</th>\n",
              "    </tr>\n",
              "  </thead>\n",
              "  <tbody>\n",
              "    <tr>\n",
              "      <th>0</th>\n",
              "      <td>2</td>\n",
              "      <td>CONTROL</td>\n",
              "      <td>The ad provided basic information that was not...</td>\n",
              "      <td>NaN</td>\n",
              "      <td>NaN</td>\n",
              "      <td>NaN</td>\n",
              "    </tr>\n",
              "    <tr>\n",
              "      <th>1</th>\n",
              "      <td>4</td>\n",
              "      <td>CONTROL</td>\n",
              "      <td>i think the ad was informative. i believe it i...</td>\n",
              "      <td>NaN</td>\n",
              "      <td>NaN</td>\n",
              "      <td>NaN</td>\n",
              "    </tr>\n",
              "    <tr>\n",
              "      <th>2</th>\n",
              "      <td>6</td>\n",
              "      <td>CONTROL</td>\n",
              "      <td>I think the add is about target marketing, and...</td>\n",
              "      <td>NaN</td>\n",
              "      <td>NaN</td>\n",
              "      <td>NaN</td>\n",
              "    </tr>\n",
              "    <tr>\n",
              "      <th>3</th>\n",
              "      <td>13</td>\n",
              "      <td>CONTROL</td>\n",
              "      <td>I think it's a good ad that highlights a major...</td>\n",
              "      <td>NaN</td>\n",
              "      <td>NaN</td>\n",
              "      <td>NaN</td>\n",
              "    </tr>\n",
              "    <tr>\n",
              "      <th>4</th>\n",
              "      <td>17</td>\n",
              "      <td>CONTROL</td>\n",
              "      <td>recycling is good.it is useful and helpful.it ...</td>\n",
              "      <td>NaN</td>\n",
              "      <td>NaN</td>\n",
              "      <td>NaN</td>\n",
              "    </tr>\n",
              "    <tr>\n",
              "      <th>...</th>\n",
              "      <td>...</td>\n",
              "      <td>...</td>\n",
              "      <td>...</td>\n",
              "      <td>...</td>\n",
              "      <td>...</td>\n",
              "      <td>...</td>\n",
              "    </tr>\n",
              "    <tr>\n",
              "      <th>85</th>\n",
              "      <td>258</td>\n",
              "      <td>CONTROL</td>\n",
              "      <td>I did not have an opinion about the ad. I did ...</td>\n",
              "      <td>NaN</td>\n",
              "      <td>NaN</td>\n",
              "      <td>NaN</td>\n",
              "    </tr>\n",
              "    <tr>\n",
              "      <th>86</th>\n",
              "      <td>262</td>\n",
              "      <td>CONTROL</td>\n",
              "      <td>How willing are people to do something about t...</td>\n",
              "      <td>NaN</td>\n",
              "      <td>NaN</td>\n",
              "      <td>NaN</td>\n",
              "    </tr>\n",
              "    <tr>\n",
              "      <th>87</th>\n",
              "      <td>264</td>\n",
              "      <td>CONTROL</td>\n",
              "      <td>I think it's a great shoe, but the ad just see...</td>\n",
              "      <td>NaN</td>\n",
              "      <td>NaN</td>\n",
              "      <td>NaN</td>\n",
              "    </tr>\n",
              "    <tr>\n",
              "      <th>88</th>\n",
              "      <td>267</td>\n",
              "      <td>CONTROL</td>\n",
              "      <td>It was very informative, but was not visually ...</td>\n",
              "      <td>NaN</td>\n",
              "      <td>NaN</td>\n",
              "      <td>NaN</td>\n",
              "    </tr>\n",
              "    <tr>\n",
              "      <th>89</th>\n",
              "      <td>270</td>\n",
              "      <td>CONTROL</td>\n",
              "      <td>I saw a poster with a shoe and a description o...</td>\n",
              "      <td>NaN</td>\n",
              "      <td>NaN</td>\n",
              "      <td>NaN</td>\n",
              "    </tr>\n",
              "  </tbody>\n",
              "</table>\n",
              "<p>90 rows × 6 columns</p>\n",
              "</div>"
            ],
            "text/plain": [
              "     ID  DISPLAY  ... Sentiment group  Topics\n",
              "0     2  CONTROL  ...             NaN     NaN\n",
              "1     4  CONTROL  ...             NaN     NaN\n",
              "2     6  CONTROL  ...             NaN     NaN\n",
              "3    13  CONTROL  ...             NaN     NaN\n",
              "4    17  CONTROL  ...             NaN     NaN\n",
              "..  ...      ...  ...             ...     ...\n",
              "85  258  CONTROL  ...             NaN     NaN\n",
              "86  262  CONTROL  ...             NaN     NaN\n",
              "87  264  CONTROL  ...             NaN     NaN\n",
              "88  267  CONTROL  ...             NaN     NaN\n",
              "89  270  CONTROL  ...             NaN     NaN\n",
              "\n",
              "[90 rows x 6 columns]"
            ]
          },
          "metadata": {
            "tags": []
          },
          "execution_count": 111
        }
      ]
    },
    {
      "cell_type": "markdown",
      "metadata": {
        "id": "dJaXJ7xc5hJB",
        "colab_type": "text"
      },
      "source": [
        "make lower case"
      ]
    },
    {
      "cell_type": "code",
      "metadata": {
        "id": "tkNJr0VA4-jb",
        "colab_type": "code",
        "colab": {}
      },
      "source": [
        "cleaned['text'] = cleaned['text'].apply(lambda x: x.lower())"
      ],
      "execution_count": 0,
      "outputs": []
    },
    {
      "cell_type": "markdown",
      "metadata": {
        "id": "t_jgjxkIZjUa",
        "colab_type": "text"
      },
      "source": [
        "remove puncuation"
      ]
    },
    {
      "cell_type": "code",
      "metadata": {
        "id": "AhO_cUY4XHz6",
        "colab_type": "code",
        "outputId": "7a221644-0dcd-4905-8641-b409a17e3cf0",
        "colab": {
          "base_uri": "https://localhost:8080/",
          "height": 381
        }
      },
      "source": [
        "cleaned['text'] = cleaned['text'].str.replace('[^\\w\\s]','')\n",
        "cleaned['text'].head(20)"
      ],
      "execution_count": 0,
      "outputs": [
        {
          "output_type": "execute_result",
          "data": {
            "text/plain": [
              "0     the ad provided basic information that was not...\n",
              "1     i think the ad was informative i believe it is...\n",
              "2     i think the add is about target marketing and ...\n",
              "3     i think its a good ad that highlights a major ...\n",
              "4     recycling is goodit is useful and helpfulit is...\n",
              "5     i think it is a good idea to reuse plastic how...\n",
              "6     i believe that the study was about recycling i...\n",
              "7     survey is very good this product is so good an...\n",
              "8     i think its a great idea but not a very attrac...\n",
              "9     the picture of the shoe seemed a little dark a...\n",
              "10    50 characters about a running shoe made from r...\n",
              "11    this product is very useful and good quality t...\n",
              "12    the ad was fairly plain and not especially wel...\n",
              "13    i appreciate any company that uses recycled ma...\n",
              "14    i think the ad is really just trying too hard ...\n",
              "15    i liked it the only recycled shoes i have seen...\n",
              "16    honestly i thought the ad was positive and con...\n",
              "17    there was not enough color in the ad  spice it...\n",
              "18    the product was novel ie the recycled polyeste...\n",
              "19    i think that the ad was too simple and needed ...\n",
              "Name: text, dtype: object"
            ]
          },
          "metadata": {
            "tags": []
          },
          "execution_count": 113
        }
      ]
    },
    {
      "cell_type": "markdown",
      "metadata": {
        "id": "uUotuIG8Z_PK",
        "colab_type": "text"
      },
      "source": [
        "remove stopwords"
      ]
    },
    {
      "cell_type": "code",
      "metadata": {
        "id": "P85-tO7SZ6tA",
        "colab_type": "code",
        "colab": {}
      },
      "source": [
        "from nltk.corpus import stopwords\n",
        "stop = stopwords.words('english')"
      ],
      "execution_count": 0,
      "outputs": []
    },
    {
      "cell_type": "code",
      "metadata": {
        "id": "PHcH-DbPaMna",
        "colab_type": "code",
        "colab": {}
      },
      "source": [
        "cleaned['text'] = cleaned['text'].apply(lambda x: \" \".join(x for x in x.split() if x not in stop))"
      ],
      "execution_count": 0,
      "outputs": []
    },
    {
      "cell_type": "code",
      "metadata": {
        "id": "gz_wsblvbHgb",
        "colab_type": "code",
        "outputId": "37ce8909-72aa-402e-92cd-9b9fdee61fbf",
        "colab": {
          "base_uri": "https://localhost:8080/",
          "height": 87
        }
      },
      "source": [
        "import nltk\n",
        "from nltk.tokenize import sent_tokenize\n",
        "from nltk.tokenize import word_tokenize\n",
        "from nltk.corpus import stopwords\n",
        "nltk.download('stopwords')\n",
        "from nltk.stem import WordNetLemmatizer\n",
        "from nltk.stem.porter import PorterStemmer\n",
        "nltk.download('wordnet')\n",
        "from nltk.tokenize import RegexpTokenizer"
      ],
      "execution_count": 0,
      "outputs": [
        {
          "output_type": "stream",
          "text": [
            "[nltk_data] Downloading package stopwords to /root/nltk_data...\n",
            "[nltk_data]   Package stopwords is already up-to-date!\n",
            "[nltk_data] Downloading package wordnet to /root/nltk_data...\n",
            "[nltk_data]   Package wordnet is already up-to-date!\n"
          ],
          "name": "stdout"
        }
      ]
    },
    {
      "cell_type": "code",
      "metadata": {
        "id": "Li0_gSSwq7WR",
        "colab_type": "code",
        "colab": {}
      },
      "source": [
        "import nltk\n",
        "from nltk.corpus import stopwords\n",
        "from nltk.tokenize import word_tokenize\n",
        "from nltk.stem.wordnet import WordNetLemmatizer\n",
        "from nltk.corpus import wordnet\n",
        "lemmatizer = nltk.stem.WordNetLemmatizer()\n",
        "wordnet_lemmatizer = WordNetLemmatizer()\n",
        "stop = stopwords.words('english')\n",
        "\n",
        "\n",
        "def nltk_tag_to_wordnet_tag(nltk_tag):\n",
        "    if nltk_tag.startswith('J'):\n",
        "        return wordnet.ADJ\n",
        "    elif nltk_tag.startswith('V'):\n",
        "        return wordnet.VERB\n",
        "    elif nltk_tag.startswith('N'):\n",
        "        return wordnet.NOUN\n",
        "    elif nltk_tag.startswith('R'):\n",
        "        return wordnet.ADV\n",
        "    else:\n",
        "        return None\n",
        "\n",
        "def lemmatize_sentence(sentence):\n",
        "    #tokenize the sentence and find the POS tag for each token\n",
        "    nltk_tagged = nltk.pos_tag(nltk.word_tokenize(sentence))\n",
        "    #tuple of (token, wordnet_tag)\n",
        "    wordnet_tagged = map(lambda x: (x[0], nltk_tag_to_wordnet_tag(x[1])), nltk_tagged)\n",
        "    lemmatized_sentence = []\n",
        "    for word, tag in wordnet_tagged:\n",
        "        if tag is None:\n",
        "            #if there is no available tag, append the token as is\n",
        "            lemmatized_sentence.append(word)\n",
        "        else:\n",
        "            #else use the tag to lemmatize the token\n",
        "            lemmatized_sentence.append(lemmatizer.lemmatize(word, tag))\n",
        "    return \" \".join(lemmatized_sentence)"
      ],
      "execution_count": 0,
      "outputs": []
    },
    {
      "cell_type": "code",
      "metadata": {
        "id": "Lk3QsMRprBvV",
        "colab_type": "code",
        "colab": {}
      },
      "source": [
        "cleaned['lemmatize'] = cleaned['text'].apply(lambda x: lemmatize_sentence(x))"
      ],
      "execution_count": 0,
      "outputs": []
    },
    {
      "cell_type": "code",
      "metadata": {
        "id": "8kAbW8UlrDxK",
        "colab_type": "code",
        "outputId": "869bb691-a379-44f3-83b0-2c673378027a",
        "colab": {
          "base_uri": "https://localhost:8080/",
          "height": 969
        }
      },
      "source": [
        "df = cleaned[['text', 'lemmatize']]\n",
        "df.head(30)"
      ],
      "execution_count": 0,
      "outputs": [
        {
          "output_type": "execute_result",
          "data": {
            "text/html": [
              "<div>\n",
              "<style scoped>\n",
              "    .dataframe tbody tr th:only-of-type {\n",
              "        vertical-align: middle;\n",
              "    }\n",
              "\n",
              "    .dataframe tbody tr th {\n",
              "        vertical-align: top;\n",
              "    }\n",
              "\n",
              "    .dataframe thead th {\n",
              "        text-align: right;\n",
              "    }\n",
              "</style>\n",
              "<table border=\"1\" class=\"dataframe\">\n",
              "  <thead>\n",
              "    <tr style=\"text-align: right;\">\n",
              "      <th></th>\n",
              "      <th>text</th>\n",
              "      <th>lemmatize</th>\n",
              "    </tr>\n",
              "  </thead>\n",
              "  <tbody>\n",
              "    <tr>\n",
              "      <th>0</th>\n",
              "      <td>ad provided basic information extremely persua...</td>\n",
              "      <td>ad provide basic information extremely persuas...</td>\n",
              "    </tr>\n",
              "    <tr>\n",
              "      <th>1</th>\n",
              "      <td>think ad informative believe worthwhile cause ...</td>\n",
              "      <td>think ad informative believe worthwhile cause ...</td>\n",
              "    </tr>\n",
              "    <tr>\n",
              "      <th>2</th>\n",
              "      <td>think add target marketing certain topic indiv...</td>\n",
              "      <td>think add target marketing certain topic indiv...</td>\n",
              "    </tr>\n",
              "    <tr>\n",
              "      <th>3</th>\n",
              "      <td>think good ad highlights major issue world tod...</td>\n",
              "      <td>think good ad highlight major issue world toda...</td>\n",
              "    </tr>\n",
              "    <tr>\n",
              "      <th>4</th>\n",
              "      <td>recycling goodit useful helpfulit effective</td>\n",
              "      <td>recycle goodit useful helpfulit effective</td>\n",
              "    </tr>\n",
              "    <tr>\n",
              "      <th>5</th>\n",
              "      <td>think good idea reuse plastic however shoes ad...</td>\n",
              "      <td>think good idea reuse plastic however shoes ad...</td>\n",
              "    </tr>\n",
              "    <tr>\n",
              "      <th>6</th>\n",
              "      <td>believe study recycling items reusing make new...</td>\n",
              "      <td>believe study recycle item reuse make new sneaker</td>\n",
              "    </tr>\n",
              "    <tr>\n",
              "      <th>7</th>\n",
              "      <td>survey good product good honest</td>\n",
              "      <td>survey good product good honest</td>\n",
              "    </tr>\n",
              "    <tr>\n",
              "      <th>8</th>\n",
              "      <td>think great idea attractive product perhaps se...</td>\n",
              "      <td>think great idea attractive product perhaps se...</td>\n",
              "    </tr>\n",
              "    <tr>\n",
              "      <th>9</th>\n",
              "      <td>picture shoe seemed little dark andor sharp cl...</td>\n",
              "      <td>picture shoe seem little dark andor sharp clar...</td>\n",
              "    </tr>\n",
              "    <tr>\n",
              "      <th>10</th>\n",
              "      <td>50 characters running shoe made recycled plast...</td>\n",
              "      <td>50 character run shoe make recycled plastic bo...</td>\n",
              "    </tr>\n",
              "    <tr>\n",
              "      <th>11</th>\n",
              "      <td>product useful good quality product useful pro...</td>\n",
              "      <td>product useful good quality product useful pro...</td>\n",
              "    </tr>\n",
              "    <tr>\n",
              "      <th>12</th>\n",
              "      <td>ad fairly plain especially well designed howev...</td>\n",
              "      <td>ad fairly plain especially well design however...</td>\n",
              "    </tr>\n",
              "    <tr>\n",
              "      <th>13</th>\n",
              "      <td>appreciate company uses recycled materials mak...</td>\n",
              "      <td>appreciate company use recycled material make ...</td>\n",
              "    </tr>\n",
              "    <tr>\n",
              "      <th>14</th>\n",
              "      <td>think ad really trying hard please niche marke...</td>\n",
              "      <td>think ad really try hard please niche market d...</td>\n",
              "    </tr>\n",
              "    <tr>\n",
              "      <th>15</th>\n",
              "      <td>liked recycled shoes seen loafer type looked g...</td>\n",
              "      <td>like recycle shoe see loafer type look good ho...</td>\n",
              "    </tr>\n",
              "    <tr>\n",
              "      <th>16</th>\n",
              "      <td>honestly thought ad positive convincing ugly b...</td>\n",
              "      <td>honestly think ad positive convincing ugly bla...</td>\n",
              "    </tr>\n",
              "    <tr>\n",
              "      <th>17</th>\n",
              "      <td>enough color ad spice colorful background diff...</td>\n",
              "      <td>enough color ad spice colorful background diff...</td>\n",
              "    </tr>\n",
              "    <tr>\n",
              "      <th>18</th>\n",
              "      <td>product novel ie recycled polyester shoes ad c...</td>\n",
              "      <td>product novel ie recycle polyester shoe ad cou...</td>\n",
              "    </tr>\n",
              "    <tr>\n",
              "      <th>19</th>\n",
              "      <td>think ad simple needed include regards process...</td>\n",
              "      <td>think ad simple need include regard process mu...</td>\n",
              "    </tr>\n",
              "    <tr>\n",
              "      <th>20</th>\n",
              "      <td>ad emphasized environmental aspect shoes envir...</td>\n",
              "      <td>ad emphasize environmental aspect shoe environ...</td>\n",
              "    </tr>\n",
              "    <tr>\n",
              "      <th>21</th>\n",
              "      <td>promoting recycled plastic making nice running...</td>\n",
              "      <td>promote recycle plastic making nice running sh...</td>\n",
              "    </tr>\n",
              "    <tr>\n",
              "      <th>22</th>\n",
              "      <td>sneaker style would choose best part survey 2 ...</td>\n",
              "      <td>sneaker style would choose best part survey 2 ...</td>\n",
              "    </tr>\n",
              "    <tr>\n",
              "      <th>23</th>\n",
              "      <td>thought ad innovative good environment never s...</td>\n",
              "      <td>thought ad innovative good environment never s...</td>\n",
              "    </tr>\n",
              "    <tr>\n",
              "      <th>24</th>\n",
              "      <td>shoes seemed pretty comfortable fact made recy...</td>\n",
              "      <td>shoe seem pretty comfortable fact make recycle...</td>\n",
              "    </tr>\n",
              "    <tr>\n",
              "      <th>25</th>\n",
              "      <td>think ad interesting concept would open idea s...</td>\n",
              "      <td>think ad interesting concept would open idea s...</td>\n",
              "    </tr>\n",
              "    <tr>\n",
              "      <th>26</th>\n",
              "      <td>ad visually unappealing make want buy wear pro...</td>\n",
              "      <td>ad visually unappealing make want buy wear pro...</td>\n",
              "    </tr>\n",
              "    <tr>\n",
              "      <th>27</th>\n",
              "      <td>think positive well needed todays world see wo...</td>\n",
              "      <td>think positive well need today world see world...</td>\n",
              "    </tr>\n",
              "    <tr>\n",
              "      <th>28</th>\n",
              "      <td>like idea general pro recycled material produc...</td>\n",
              "      <td>like idea general pro recycle material product...</td>\n",
              "    </tr>\n",
              "    <tr>\n",
              "      <th>29</th>\n",
              "      <td>somewhat bland since shoe black eyecatching sh...</td>\n",
              "      <td>somewhat bland since shoe black eyecatching sh...</td>\n",
              "    </tr>\n",
              "  </tbody>\n",
              "</table>\n",
              "</div>"
            ],
            "text/plain": [
              "                                                 text                                          lemmatize\n",
              "0   ad provided basic information extremely persua...  ad provide basic information extremely persuas...\n",
              "1   think ad informative believe worthwhile cause ...  think ad informative believe worthwhile cause ...\n",
              "2   think add target marketing certain topic indiv...  think add target marketing certain topic indiv...\n",
              "3   think good ad highlights major issue world tod...  think good ad highlight major issue world toda...\n",
              "4         recycling goodit useful helpfulit effective          recycle goodit useful helpfulit effective\n",
              "5   think good idea reuse plastic however shoes ad...  think good idea reuse plastic however shoes ad...\n",
              "6   believe study recycling items reusing make new...  believe study recycle item reuse make new sneaker\n",
              "7                     survey good product good honest                    survey good product good honest\n",
              "8   think great idea attractive product perhaps se...  think great idea attractive product perhaps se...\n",
              "9   picture shoe seemed little dark andor sharp cl...  picture shoe seem little dark andor sharp clar...\n",
              "10  50 characters running shoe made recycled plast...  50 character run shoe make recycled plastic bo...\n",
              "11  product useful good quality product useful pro...  product useful good quality product useful pro...\n",
              "12  ad fairly plain especially well designed howev...  ad fairly plain especially well design however...\n",
              "13  appreciate company uses recycled materials mak...  appreciate company use recycled material make ...\n",
              "14  think ad really trying hard please niche marke...  think ad really try hard please niche market d...\n",
              "15  liked recycled shoes seen loafer type looked g...  like recycle shoe see loafer type look good ho...\n",
              "16  honestly thought ad positive convincing ugly b...  honestly think ad positive convincing ugly bla...\n",
              "17  enough color ad spice colorful background diff...  enough color ad spice colorful background diff...\n",
              "18  product novel ie recycled polyester shoes ad c...  product novel ie recycle polyester shoe ad cou...\n",
              "19  think ad simple needed include regards process...  think ad simple need include regard process mu...\n",
              "20  ad emphasized environmental aspect shoes envir...  ad emphasize environmental aspect shoe environ...\n",
              "21  promoting recycled plastic making nice running...  promote recycle plastic making nice running sh...\n",
              "22  sneaker style would choose best part survey 2 ...  sneaker style would choose best part survey 2 ...\n",
              "23  thought ad innovative good environment never s...  thought ad innovative good environment never s...\n",
              "24  shoes seemed pretty comfortable fact made recy...  shoe seem pretty comfortable fact make recycle...\n",
              "25  think ad interesting concept would open idea s...  think ad interesting concept would open idea s...\n",
              "26  ad visually unappealing make want buy wear pro...  ad visually unappealing make want buy wear pro...\n",
              "27  think positive well needed todays world see wo...  think positive well need today world see world...\n",
              "28  like idea general pro recycled material produc...  like idea general pro recycle material product...\n",
              "29  somewhat bland since shoe black eyecatching sh...  somewhat bland since shoe black eyecatching sh..."
            ]
          },
          "metadata": {
            "tags": []
          },
          "execution_count": 119
        }
      ]
    },
    {
      "cell_type": "markdown",
      "metadata": {
        "id": "jvjG_Fberofe",
        "colab_type": "text"
      },
      "source": [
        "#LDA"
      ]
    },
    {
      "cell_type": "code",
      "metadata": {
        "id": "0Y2PH80prMGV",
        "colab_type": "code",
        "outputId": "8160c8f2-1e38-4c10-85cc-34e9d3fb882d",
        "colab": {
          "base_uri": "https://localhost:8080/",
          "height": 69
        }
      },
      "source": [
        "!pip install LDA"
      ],
      "execution_count": 0,
      "outputs": [
        {
          "output_type": "stream",
          "text": [
            "Requirement already satisfied: LDA in /usr/local/lib/python3.6/dist-packages (1.1.0)\n",
            "Requirement already satisfied: numpy<2.0,>=1.13.0 in /usr/local/lib/python3.6/dist-packages (from LDA) (1.17.5)\n",
            "Requirement already satisfied: pbr<4,>=0.6 in /usr/local/lib/python3.6/dist-packages (from LDA) (3.1.1)\n"
          ],
          "name": "stdout"
        }
      ]
    },
    {
      "cell_type": "code",
      "metadata": {
        "id": "8Yh1Odxkrplr",
        "colab_type": "code",
        "colab": {}
      },
      "source": [
        "from sklearn.feature_extraction.text import CountVectorizer\n",
        "from sklearn.decomposition import NMF, LatentDirichletAllocation, TruncatedSVD"
      ],
      "execution_count": 0,
      "outputs": []
    },
    {
      "cell_type": "code",
      "metadata": {
        "id": "dZJAFa5xrsCN",
        "colab_type": "code",
        "colab": {}
      },
      "source": [
        "def selected_topics(model, vectorizer, top_n=20):\n",
        "    data_topic = dict()\n",
        "    for idx, topic in enumerate(model.components_):\n",
        "        #print(\"Topic %d:\" % (idx))\n",
        "        #print (\" \".join([vectorizer.get_feature_names()[i]\n",
        "        #                for i in topic.argsort()[:-top_n - 1:-1]]))\n",
        "        data_topic[\"Topic_\"+str(idx)]= [(vectorizer.get_feature_names()[i], topic[i])\n",
        "                        for i in topic.argsort()[:-top_n - 1:-1]]\n",
        "    return data_topic"
      ],
      "execution_count": 0,
      "outputs": []
    },
    {
      "cell_type": "code",
      "metadata": {
        "id": "FvUI77ngrtcK",
        "colab_type": "code",
        "colab": {}
      },
      "source": [
        "vectorizer_ = CountVectorizer(min_df=5, max_df=0.9, stop_words='english', lowercase=True, token_pattern='[a-zA-Z\\-][a-zA-Z\\-]{2,}')\n",
        "df_vectorized = vectorizer_.fit_transform(cleaned['lemmatize'])"
      ],
      "execution_count": 0,
      "outputs": []
    },
    {
      "cell_type": "code",
      "metadata": {
        "id": "6T0gVkBzrvKv",
        "colab_type": "code",
        "outputId": "9dacb951-eada-45f5-f82c-e5f61bb8931a",
        "colab": {
          "base_uri": "https://localhost:8080/",
          "height": 104
        }
      },
      "source": [
        "lda_ = LatentDirichletAllocation(n_components=3, max_iter=5, learning_method='online',verbose=True)\n",
        "df_lda = lda_.fit_transform(df_vectorized)"
      ],
      "execution_count": 0,
      "outputs": [
        {
          "output_type": "stream",
          "text": [
            "iteration: 1 of max_iter: 5\n",
            "iteration: 2 of max_iter: 5\n",
            "iteration: 3 of max_iter: 5\n",
            "iteration: 4 of max_iter: 5\n",
            "iteration: 5 of max_iter: 5\n"
          ],
          "name": "stdout"
        }
      ]
    },
    {
      "cell_type": "code",
      "metadata": {
        "id": "sFOEj-prr0R0",
        "colab_type": "code",
        "colab": {}
      },
      "source": [
        "topic_vector =  selected_topics(lda_, vectorizer_)"
      ],
      "execution_count": 0,
      "outputs": []
    },
    {
      "cell_type": "code",
      "metadata": {
        "id": "YTcNkFDdr1nV",
        "colab_type": "code",
        "colab": {}
      },
      "source": [
        "#df_topic_vector = pd.DataFrame(topic_vector)\n",
        "#df_topic_vector.to_excel(\"cleaned_df_10_topic_vector.xlsx\")"
      ],
      "execution_count": 0,
      "outputs": []
    },
    {
      "cell_type": "markdown",
      "metadata": {
        "id": "m8Uu3J3zsArC",
        "colab_type": "text"
      },
      "source": [
        "#textblob"
      ]
    },
    {
      "cell_type": "code",
      "metadata": {
        "id": "adujzFpzr94o",
        "colab_type": "code",
        "colab": {}
      },
      "source": [
        "from textblob import TextBlob"
      ],
      "execution_count": 0,
      "outputs": []
    },
    {
      "cell_type": "code",
      "metadata": {
        "id": "T5tMKEdlsEaz",
        "colab_type": "code",
        "colab": {}
      },
      "source": [
        "def detect_polarity(text):\n",
        "  score = TextBlob(text).sentiment.polarity\n",
        "  print(\"{:-<40} {}\".format(text, str(score)))"
      ],
      "execution_count": 0,
      "outputs": []
    },
    {
      "cell_type": "code",
      "metadata": {
        "id": "N2TzlDADsGlX",
        "colab_type": "code",
        "colab": {}
      },
      "source": [
        "cleaned['Sentiment Score'] = cleaned['lemmatize'].apply(lambda text: TextBlob(text).sentiment.polarity)"
      ],
      "execution_count": 0,
      "outputs": []
    },
    {
      "cell_type": "code",
      "metadata": {
        "id": "JXnVQTyvsPvS",
        "colab_type": "code",
        "outputId": "d916961b-c829-4a7c-d329-ac32f532d2d3",
        "colab": {
          "base_uri": "https://localhost:8080/",
          "height": 35
        }
      },
      "source": [
        "tb_predicted_value = list(cleaned['Sentiment Score'])\n",
        "#converting sentiment values to numpy for easier usage\n",
        "\n",
        "compvall = np.array(tb_predicted_value)\n",
        "\n",
        "len(tb_predicted_value)"
      ],
      "execution_count": 0,
      "outputs": [
        {
          "output_type": "execute_result",
          "data": {
            "text/plain": [
              "303"
            ]
          },
          "metadata": {
            "tags": []
          },
          "execution_count": 129
        }
      ]
    },
    {
      "cell_type": "code",
      "metadata": {
        "id": "NfXyNEcbsU7V",
        "colab_type": "code",
        "colab": {}
      },
      "source": [
        "cleaned['Sentiment Score'] = compvall"
      ],
      "execution_count": 0,
      "outputs": []
    },
    {
      "cell_type": "code",
      "metadata": {
        "id": "kfIwZx0isYo8",
        "colab_type": "code",
        "outputId": "9b6fe511-920b-45ce-bb26-ed1cad39ac9e",
        "colab": {
          "base_uri": "https://localhost:8080/",
          "height": 355
        }
      },
      "source": [
        "cleaned.tail(10)"
      ],
      "execution_count": 0,
      "outputs": [
        {
          "output_type": "execute_result",
          "data": {
            "text/html": [
              "<div>\n",
              "<style scoped>\n",
              "    .dataframe tbody tr th:only-of-type {\n",
              "        vertical-align: middle;\n",
              "    }\n",
              "\n",
              "    .dataframe tbody tr th {\n",
              "        vertical-align: top;\n",
              "    }\n",
              "\n",
              "    .dataframe thead th {\n",
              "        text-align: right;\n",
              "    }\n",
              "</style>\n",
              "<table border=\"1\" class=\"dataframe\">\n",
              "  <thead>\n",
              "    <tr style=\"text-align: right;\">\n",
              "      <th></th>\n",
              "      <th>ID</th>\n",
              "      <th>DISPLAY</th>\n",
              "      <th>text</th>\n",
              "      <th>Sentiment Score</th>\n",
              "      <th>Sentiment group</th>\n",
              "      <th>Topics</th>\n",
              "      <th>lemmatize</th>\n",
              "    </tr>\n",
              "  </thead>\n",
              "  <tbody>\n",
              "    <tr>\n",
              "      <th>293</th>\n",
              "      <td>272</td>\n",
              "      <td>R2L</td>\n",
              "      <td>okay ad talks plastic waste making shoes belie...</td>\n",
              "      <td>0.266667</td>\n",
              "      <td>NaN</td>\n",
              "      <td>NaN</td>\n",
              "      <td>okay ad talk plastic waste making shoe believa...</td>\n",
              "    </tr>\n",
              "    <tr>\n",
              "      <th>294</th>\n",
              "      <td>277</td>\n",
              "      <td>R2L</td>\n",
              "      <td>ad simple elicit emotion also visually appealing</td>\n",
              "      <td>0.000000</td>\n",
              "      <td>NaN</td>\n",
              "      <td>NaN</td>\n",
              "      <td>ad simple elicit emotion also visually appeal</td>\n",
              "    </tr>\n",
              "    <tr>\n",
              "      <th>295</th>\n",
              "      <td>280</td>\n",
              "      <td>R2L</td>\n",
              "      <td>ad intriguing hope true would absolutely buy s...</td>\n",
              "      <td>0.275000</td>\n",
              "      <td>NaN</td>\n",
              "      <td>NaN</td>\n",
              "      <td>ad intrigue hope true would absolutely buy sho...</td>\n",
              "    </tr>\n",
              "    <tr>\n",
              "      <th>296</th>\n",
              "      <td>282</td>\n",
              "      <td>R2L</td>\n",
              "      <td>felt message positive recycling important prot...</td>\n",
              "      <td>0.105455</td>\n",
              "      <td>NaN</td>\n",
              "      <td>NaN</td>\n",
              "      <td>felt message positive recycle important protec...</td>\n",
              "    </tr>\n",
              "    <tr>\n",
              "      <th>297</th>\n",
              "      <td>285</td>\n",
              "      <td>R2L</td>\n",
              "      <td>think placement shoes bottles switched visuall...</td>\n",
              "      <td>0.350000</td>\n",
              "      <td>NaN</td>\n",
              "      <td>NaN</td>\n",
              "      <td>think placement shoe bottle switch visually sh...</td>\n",
              "    </tr>\n",
              "    <tr>\n",
              "      <th>298</th>\n",
              "      <td>289</td>\n",
              "      <td>R2L</td>\n",
              "      <td>learning new ways recycle used plastic importa...</td>\n",
              "      <td>0.434091</td>\n",
              "      <td>NaN</td>\n",
              "      <td>NaN</td>\n",
              "      <td>learn new way recycle use plastic important sh...</td>\n",
              "    </tr>\n",
              "    <tr>\n",
              "      <th>299</th>\n",
              "      <td>292</td>\n",
              "      <td>R2L</td>\n",
              "      <td>love concept ad clear however ugly needs desig...</td>\n",
              "      <td>-0.033333</td>\n",
              "      <td>NaN</td>\n",
              "      <td>NaN</td>\n",
              "      <td>love concept ad clear however ugly need design...</td>\n",
              "    </tr>\n",
              "    <tr>\n",
              "      <th>300</th>\n",
              "      <td>297</td>\n",
              "      <td>R2L</td>\n",
              "      <td>ad saw beginning survey poorly done clearly th...</td>\n",
              "      <td>-0.018333</td>\n",
              "      <td>NaN</td>\n",
              "      <td>NaN</td>\n",
              "      <td>ad saw begin survey poorly do clearly thought ...</td>\n",
              "    </tr>\n",
              "    <tr>\n",
              "      <th>301</th>\n",
              "      <td>298</td>\n",
              "      <td>R2L</td>\n",
              "      <td>think ad wordy nice learn information feel lik...</td>\n",
              "      <td>0.433333</td>\n",
              "      <td>NaN</td>\n",
              "      <td>NaN</td>\n",
              "      <td>think ad wordy nice learn information feel lik...</td>\n",
              "    </tr>\n",
              "    <tr>\n",
              "      <th>302</th>\n",
              "      <td>300</td>\n",
              "      <td>R2L</td>\n",
              "      <td>ad basic easy understand however basic looked ...</td>\n",
              "      <td>-0.044444</td>\n",
              "      <td>NaN</td>\n",
              "      <td>NaN</td>\n",
              "      <td>ad basic easy understand however basic look fa...</td>\n",
              "    </tr>\n",
              "  </tbody>\n",
              "</table>\n",
              "</div>"
            ],
            "text/plain": [
              "      ID DISPLAY  ... Topics                                          lemmatize\n",
              "293  272     R2L  ...    NaN  okay ad talk plastic waste making shoe believa...\n",
              "294  277     R2L  ...    NaN      ad simple elicit emotion also visually appeal\n",
              "295  280     R2L  ...    NaN  ad intrigue hope true would absolutely buy sho...\n",
              "296  282     R2L  ...    NaN  felt message positive recycle important protec...\n",
              "297  285     R2L  ...    NaN  think placement shoe bottle switch visually sh...\n",
              "298  289     R2L  ...    NaN  learn new way recycle use plastic important sh...\n",
              "299  292     R2L  ...    NaN  love concept ad clear however ugly need design...\n",
              "300  297     R2L  ...    NaN  ad saw begin survey poorly do clearly thought ...\n",
              "301  298     R2L  ...    NaN  think ad wordy nice learn information feel lik...\n",
              "302  300     R2L  ...    NaN  ad basic easy understand however basic look fa...\n",
              "\n",
              "[10 rows x 7 columns]"
            ]
          },
          "metadata": {
            "tags": []
          },
          "execution_count": 131
        }
      ]
    },
    {
      "cell_type": "code",
      "metadata": {
        "id": "2gFvCKzLsaQR",
        "colab_type": "code",
        "colab": {}
      },
      "source": [
        "#Assigning score categories and logic\n",
        "i = 0\n",
        "\n",
        "tb_predicted_value = [ ] #empty series to hold our predicted values\n",
        "\n",
        "# Creating function for calculating positive, negative and neutral\n",
        "# More than 1 --> Positive, equal to 0 --> neutral and less than 0 --> Negative\n",
        "while(i<len(cleaned)):\n",
        "    if ((cleaned.iloc[i]['Sentiment Score'] > 0)):\n",
        "        tb_predicted_value.append('positive')\n",
        "        i = i+1\n",
        "    elif ((cleaned.iloc[i]['Sentiment Score'] == 0)):\n",
        "        tb_predicted_value.append('neutral')\n",
        "        i = i+1\n",
        "    elif ((cleaned.iloc[i]['Sentiment Score'] < 0)):\n",
        "        tb_predicted_value.append('negative')\n",
        "        i = i+1"
      ],
      "execution_count": 0,
      "outputs": []
    },
    {
      "cell_type": "code",
      "metadata": {
        "id": "3OhajjFZsgf7",
        "colab_type": "code",
        "colab": {}
      },
      "source": [
        "cleaned['Sentiment group'] = tb_predicted_value"
      ],
      "execution_count": 0,
      "outputs": []
    },
    {
      "cell_type": "code",
      "metadata": {
        "id": "qRQtf7kssuUx",
        "colab_type": "code",
        "outputId": "3158ab61-8a36-4a53-a790-baa831de0615",
        "colab": {
          "base_uri": "https://localhost:8080/",
          "height": 355
        }
      },
      "source": [
        "cleaned.tail(10)"
      ],
      "execution_count": 0,
      "outputs": [
        {
          "output_type": "execute_result",
          "data": {
            "text/html": [
              "<div>\n",
              "<style scoped>\n",
              "    .dataframe tbody tr th:only-of-type {\n",
              "        vertical-align: middle;\n",
              "    }\n",
              "\n",
              "    .dataframe tbody tr th {\n",
              "        vertical-align: top;\n",
              "    }\n",
              "\n",
              "    .dataframe thead th {\n",
              "        text-align: right;\n",
              "    }\n",
              "</style>\n",
              "<table border=\"1\" class=\"dataframe\">\n",
              "  <thead>\n",
              "    <tr style=\"text-align: right;\">\n",
              "      <th></th>\n",
              "      <th>ID</th>\n",
              "      <th>DISPLAY</th>\n",
              "      <th>text</th>\n",
              "      <th>Sentiment Score</th>\n",
              "      <th>Sentiment group</th>\n",
              "      <th>Topics</th>\n",
              "      <th>lemmatize</th>\n",
              "    </tr>\n",
              "  </thead>\n",
              "  <tbody>\n",
              "    <tr>\n",
              "      <th>293</th>\n",
              "      <td>272</td>\n",
              "      <td>R2L</td>\n",
              "      <td>okay ad talks plastic waste making shoes belie...</td>\n",
              "      <td>0.266667</td>\n",
              "      <td>positive</td>\n",
              "      <td>NaN</td>\n",
              "      <td>okay ad talk plastic waste making shoe believa...</td>\n",
              "    </tr>\n",
              "    <tr>\n",
              "      <th>294</th>\n",
              "      <td>277</td>\n",
              "      <td>R2L</td>\n",
              "      <td>ad simple elicit emotion also visually appealing</td>\n",
              "      <td>0.000000</td>\n",
              "      <td>neutral</td>\n",
              "      <td>NaN</td>\n",
              "      <td>ad simple elicit emotion also visually appeal</td>\n",
              "    </tr>\n",
              "    <tr>\n",
              "      <th>295</th>\n",
              "      <td>280</td>\n",
              "      <td>R2L</td>\n",
              "      <td>ad intriguing hope true would absolutely buy s...</td>\n",
              "      <td>0.275000</td>\n",
              "      <td>positive</td>\n",
              "      <td>NaN</td>\n",
              "      <td>ad intrigue hope true would absolutely buy sho...</td>\n",
              "    </tr>\n",
              "    <tr>\n",
              "      <th>296</th>\n",
              "      <td>282</td>\n",
              "      <td>R2L</td>\n",
              "      <td>felt message positive recycling important prot...</td>\n",
              "      <td>0.105455</td>\n",
              "      <td>positive</td>\n",
              "      <td>NaN</td>\n",
              "      <td>felt message positive recycle important protec...</td>\n",
              "    </tr>\n",
              "    <tr>\n",
              "      <th>297</th>\n",
              "      <td>285</td>\n",
              "      <td>R2L</td>\n",
              "      <td>think placement shoes bottles switched visuall...</td>\n",
              "      <td>0.350000</td>\n",
              "      <td>positive</td>\n",
              "      <td>NaN</td>\n",
              "      <td>think placement shoe bottle switch visually sh...</td>\n",
              "    </tr>\n",
              "    <tr>\n",
              "      <th>298</th>\n",
              "      <td>289</td>\n",
              "      <td>R2L</td>\n",
              "      <td>learning new ways recycle used plastic importa...</td>\n",
              "      <td>0.434091</td>\n",
              "      <td>positive</td>\n",
              "      <td>NaN</td>\n",
              "      <td>learn new way recycle use plastic important sh...</td>\n",
              "    </tr>\n",
              "    <tr>\n",
              "      <th>299</th>\n",
              "      <td>292</td>\n",
              "      <td>R2L</td>\n",
              "      <td>love concept ad clear however ugly needs desig...</td>\n",
              "      <td>-0.033333</td>\n",
              "      <td>negative</td>\n",
              "      <td>NaN</td>\n",
              "      <td>love concept ad clear however ugly need design...</td>\n",
              "    </tr>\n",
              "    <tr>\n",
              "      <th>300</th>\n",
              "      <td>297</td>\n",
              "      <td>R2L</td>\n",
              "      <td>ad saw beginning survey poorly done clearly th...</td>\n",
              "      <td>-0.018333</td>\n",
              "      <td>negative</td>\n",
              "      <td>NaN</td>\n",
              "      <td>ad saw begin survey poorly do clearly thought ...</td>\n",
              "    </tr>\n",
              "    <tr>\n",
              "      <th>301</th>\n",
              "      <td>298</td>\n",
              "      <td>R2L</td>\n",
              "      <td>think ad wordy nice learn information feel lik...</td>\n",
              "      <td>0.433333</td>\n",
              "      <td>positive</td>\n",
              "      <td>NaN</td>\n",
              "      <td>think ad wordy nice learn information feel lik...</td>\n",
              "    </tr>\n",
              "    <tr>\n",
              "      <th>302</th>\n",
              "      <td>300</td>\n",
              "      <td>R2L</td>\n",
              "      <td>ad basic easy understand however basic looked ...</td>\n",
              "      <td>-0.044444</td>\n",
              "      <td>negative</td>\n",
              "      <td>NaN</td>\n",
              "      <td>ad basic easy understand however basic look fa...</td>\n",
              "    </tr>\n",
              "  </tbody>\n",
              "</table>\n",
              "</div>"
            ],
            "text/plain": [
              "      ID DISPLAY  ... Topics                                          lemmatize\n",
              "293  272     R2L  ...    NaN  okay ad talk plastic waste making shoe believa...\n",
              "294  277     R2L  ...    NaN      ad simple elicit emotion also visually appeal\n",
              "295  280     R2L  ...    NaN  ad intrigue hope true would absolutely buy sho...\n",
              "296  282     R2L  ...    NaN  felt message positive recycle important protec...\n",
              "297  285     R2L  ...    NaN  think placement shoe bottle switch visually sh...\n",
              "298  289     R2L  ...    NaN  learn new way recycle use plastic important sh...\n",
              "299  292     R2L  ...    NaN  love concept ad clear however ugly need design...\n",
              "300  297     R2L  ...    NaN  ad saw begin survey poorly do clearly thought ...\n",
              "301  298     R2L  ...    NaN  think ad wordy nice learn information feel lik...\n",
              "302  300     R2L  ...    NaN  ad basic easy understand however basic look fa...\n",
              "\n",
              "[10 rows x 7 columns]"
            ]
          },
          "metadata": {
            "tags": []
          },
          "execution_count": 134
        }
      ]
    },
    {
      "cell_type": "code",
      "metadata": {
        "id": "swyR_x3UsxMT",
        "colab_type": "code",
        "outputId": "151c3d4d-d8bf-461d-87b0-2269a7d9cbc4",
        "colab": {
          "base_uri": "https://localhost:8080/",
          "height": 355
        }
      },
      "source": [
        "#drop other columns\n",
        "sentiment = cleaned.drop(['Topics'], axis = 1)\n",
        "sentiment.tail(10)"
      ],
      "execution_count": 0,
      "outputs": [
        {
          "output_type": "execute_result",
          "data": {
            "text/html": [
              "<div>\n",
              "<style scoped>\n",
              "    .dataframe tbody tr th:only-of-type {\n",
              "        vertical-align: middle;\n",
              "    }\n",
              "\n",
              "    .dataframe tbody tr th {\n",
              "        vertical-align: top;\n",
              "    }\n",
              "\n",
              "    .dataframe thead th {\n",
              "        text-align: right;\n",
              "    }\n",
              "</style>\n",
              "<table border=\"1\" class=\"dataframe\">\n",
              "  <thead>\n",
              "    <tr style=\"text-align: right;\">\n",
              "      <th></th>\n",
              "      <th>ID</th>\n",
              "      <th>DISPLAY</th>\n",
              "      <th>text</th>\n",
              "      <th>Sentiment Score</th>\n",
              "      <th>Sentiment group</th>\n",
              "      <th>lemmatize</th>\n",
              "    </tr>\n",
              "  </thead>\n",
              "  <tbody>\n",
              "    <tr>\n",
              "      <th>293</th>\n",
              "      <td>272</td>\n",
              "      <td>R2L</td>\n",
              "      <td>okay ad talks plastic waste making shoes belie...</td>\n",
              "      <td>0.266667</td>\n",
              "      <td>positive</td>\n",
              "      <td>okay ad talk plastic waste making shoe believa...</td>\n",
              "    </tr>\n",
              "    <tr>\n",
              "      <th>294</th>\n",
              "      <td>277</td>\n",
              "      <td>R2L</td>\n",
              "      <td>ad simple elicit emotion also visually appealing</td>\n",
              "      <td>0.000000</td>\n",
              "      <td>neutral</td>\n",
              "      <td>ad simple elicit emotion also visually appeal</td>\n",
              "    </tr>\n",
              "    <tr>\n",
              "      <th>295</th>\n",
              "      <td>280</td>\n",
              "      <td>R2L</td>\n",
              "      <td>ad intriguing hope true would absolutely buy s...</td>\n",
              "      <td>0.275000</td>\n",
              "      <td>positive</td>\n",
              "      <td>ad intrigue hope true would absolutely buy sho...</td>\n",
              "    </tr>\n",
              "    <tr>\n",
              "      <th>296</th>\n",
              "      <td>282</td>\n",
              "      <td>R2L</td>\n",
              "      <td>felt message positive recycling important prot...</td>\n",
              "      <td>0.105455</td>\n",
              "      <td>positive</td>\n",
              "      <td>felt message positive recycle important protec...</td>\n",
              "    </tr>\n",
              "    <tr>\n",
              "      <th>297</th>\n",
              "      <td>285</td>\n",
              "      <td>R2L</td>\n",
              "      <td>think placement shoes bottles switched visuall...</td>\n",
              "      <td>0.350000</td>\n",
              "      <td>positive</td>\n",
              "      <td>think placement shoe bottle switch visually sh...</td>\n",
              "    </tr>\n",
              "    <tr>\n",
              "      <th>298</th>\n",
              "      <td>289</td>\n",
              "      <td>R2L</td>\n",
              "      <td>learning new ways recycle used plastic importa...</td>\n",
              "      <td>0.434091</td>\n",
              "      <td>positive</td>\n",
              "      <td>learn new way recycle use plastic important sh...</td>\n",
              "    </tr>\n",
              "    <tr>\n",
              "      <th>299</th>\n",
              "      <td>292</td>\n",
              "      <td>R2L</td>\n",
              "      <td>love concept ad clear however ugly needs desig...</td>\n",
              "      <td>-0.033333</td>\n",
              "      <td>negative</td>\n",
              "      <td>love concept ad clear however ugly need design...</td>\n",
              "    </tr>\n",
              "    <tr>\n",
              "      <th>300</th>\n",
              "      <td>297</td>\n",
              "      <td>R2L</td>\n",
              "      <td>ad saw beginning survey poorly done clearly th...</td>\n",
              "      <td>-0.018333</td>\n",
              "      <td>negative</td>\n",
              "      <td>ad saw begin survey poorly do clearly thought ...</td>\n",
              "    </tr>\n",
              "    <tr>\n",
              "      <th>301</th>\n",
              "      <td>298</td>\n",
              "      <td>R2L</td>\n",
              "      <td>think ad wordy nice learn information feel lik...</td>\n",
              "      <td>0.433333</td>\n",
              "      <td>positive</td>\n",
              "      <td>think ad wordy nice learn information feel lik...</td>\n",
              "    </tr>\n",
              "    <tr>\n",
              "      <th>302</th>\n",
              "      <td>300</td>\n",
              "      <td>R2L</td>\n",
              "      <td>ad basic easy understand however basic looked ...</td>\n",
              "      <td>-0.044444</td>\n",
              "      <td>negative</td>\n",
              "      <td>ad basic easy understand however basic look fa...</td>\n",
              "    </tr>\n",
              "  </tbody>\n",
              "</table>\n",
              "</div>"
            ],
            "text/plain": [
              "      ID  ...                                          lemmatize\n",
              "293  272  ...  okay ad talk plastic waste making shoe believa...\n",
              "294  277  ...      ad simple elicit emotion also visually appeal\n",
              "295  280  ...  ad intrigue hope true would absolutely buy sho...\n",
              "296  282  ...  felt message positive recycle important protec...\n",
              "297  285  ...  think placement shoe bottle switch visually sh...\n",
              "298  289  ...  learn new way recycle use plastic important sh...\n",
              "299  292  ...  love concept ad clear however ugly need design...\n",
              "300  297  ...  ad saw begin survey poorly do clearly thought ...\n",
              "301  298  ...  think ad wordy nice learn information feel lik...\n",
              "302  300  ...  ad basic easy understand however basic look fa...\n",
              "\n",
              "[10 rows x 6 columns]"
            ]
          },
          "metadata": {
            "tags": []
          },
          "execution_count": 135
        }
      ]
    },
    {
      "cell_type": "code",
      "metadata": {
        "id": "lvYSIFImtclx",
        "colab_type": "code",
        "colab": {}
      },
      "source": [
        "#df_topic_vector = pd.DataFrame(topic_vector)\n",
        "#df_topic_vector.to_excel(\"cleaned_df_10_topic_vector.xlsx\")\n",
        "df_sentiment_score = pd.DataFrame(sentiment)\n",
        "df_sentiment_score.to_excel('df_sentiment_score.xlsx')"
      ],
      "execution_count": 0,
      "outputs": []
    },
    {
      "cell_type": "code",
      "metadata": {
        "id": "dFS5FmLut4WC",
        "colab_type": "code",
        "outputId": "1816ca7b-6961-4dad-9b59-8dbfa8c56b4e",
        "colab": {
          "base_uri": "https://localhost:8080/",
          "height": 35
        }
      },
      "source": [
        "sentiment['Sentiment group'].unique()"
      ],
      "execution_count": 0,
      "outputs": [
        {
          "output_type": "execute_result",
          "data": {
            "text/plain": [
              "array(['negative', 'positive', 'neutral'], dtype=object)"
            ]
          },
          "metadata": {
            "tags": []
          },
          "execution_count": 137
        }
      ]
    },
    {
      "cell_type": "code",
      "metadata": {
        "id": "f2s1LmDbvhkO",
        "colab_type": "code",
        "colab": {}
      },
      "source": [
        "pos = sentiment[sentiment['Sentiment group'] == 'positive']\n",
        "neg = sentiment[sentiment['Sentiment group'] == 'negative']\n",
        "neu = sentiment[sentiment['Sentiment group'] == 'neutral']"
      ],
      "execution_count": 0,
      "outputs": []
    },
    {
      "cell_type": "code",
      "metadata": {
        "id": "TXJj02kPvmun",
        "colab_type": "code",
        "outputId": "6191b8f8-9172-44fa-e637-d4cf69968695",
        "colab": {
          "base_uri": "https://localhost:8080/",
          "height": 202
        }
      },
      "source": [
        "neu.head()"
      ],
      "execution_count": 0,
      "outputs": [
        {
          "output_type": "execute_result",
          "data": {
            "text/html": [
              "<div>\n",
              "<style scoped>\n",
              "    .dataframe tbody tr th:only-of-type {\n",
              "        vertical-align: middle;\n",
              "    }\n",
              "\n",
              "    .dataframe tbody tr th {\n",
              "        vertical-align: top;\n",
              "    }\n",
              "\n",
              "    .dataframe thead th {\n",
              "        text-align: right;\n",
              "    }\n",
              "</style>\n",
              "<table border=\"1\" class=\"dataframe\">\n",
              "  <thead>\n",
              "    <tr style=\"text-align: right;\">\n",
              "      <th></th>\n",
              "      <th>ID</th>\n",
              "      <th>DISPLAY</th>\n",
              "      <th>text</th>\n",
              "      <th>Sentiment Score</th>\n",
              "      <th>Sentiment group</th>\n",
              "      <th>lemmatize</th>\n",
              "    </tr>\n",
              "  </thead>\n",
              "  <tbody>\n",
              "    <tr>\n",
              "      <th>18</th>\n",
              "      <td>55</td>\n",
              "      <td>CONTROL</td>\n",
              "      <td>product novel ie recycled polyester shoes ad c...</td>\n",
              "      <td>0.0</td>\n",
              "      <td>neutral</td>\n",
              "      <td>product novel ie recycle polyester shoe ad cou...</td>\n",
              "    </tr>\n",
              "    <tr>\n",
              "      <th>38</th>\n",
              "      <td>116</td>\n",
              "      <td>CONTROL</td>\n",
              "      <td>survey related shoe brands shoe made recycled ...</td>\n",
              "      <td>0.0</td>\n",
              "      <td>neutral</td>\n",
              "      <td>survey relate shoe brand shoe make recycled pl...</td>\n",
              "    </tr>\n",
              "    <tr>\n",
              "      <th>45</th>\n",
              "      <td>137</td>\n",
              "      <td>CONTROL</td>\n",
              "      <td>ad running shoe used recycled materials said u...</td>\n",
              "      <td>0.0</td>\n",
              "      <td>neutral</td>\n",
              "      <td>ad run shoe use recycled material say use recy...</td>\n",
              "    </tr>\n",
              "    <tr>\n",
              "      <th>65</th>\n",
              "      <td>198</td>\n",
              "      <td>CONTROL</td>\n",
              "      <td>interesting idea picture falling apart dont se...</td>\n",
              "      <td>0.0</td>\n",
              "      <td>neutral</td>\n",
              "      <td>interest idea picture fall apart dont see coul...</td>\n",
              "    </tr>\n",
              "    <tr>\n",
              "      <th>69</th>\n",
              "      <td>210</td>\n",
              "      <td>CONTROL</td>\n",
              "      <td>liked idea ad thought copy ad could appealing ...</td>\n",
              "      <td>0.0</td>\n",
              "      <td>neutral</td>\n",
              "      <td>like idea ad think copy ad could appeal drive ...</td>\n",
              "    </tr>\n",
              "  </tbody>\n",
              "</table>\n",
              "</div>"
            ],
            "text/plain": [
              "     ID  ...                                          lemmatize\n",
              "18   55  ...  product novel ie recycle polyester shoe ad cou...\n",
              "38  116  ...  survey relate shoe brand shoe make recycled pl...\n",
              "45  137  ...  ad run shoe use recycled material say use recy...\n",
              "65  198  ...  interest idea picture fall apart dont see coul...\n",
              "69  210  ...  like idea ad think copy ad could appeal drive ...\n",
              "\n",
              "[5 rows x 6 columns]"
            ]
          },
          "metadata": {
            "tags": []
          },
          "execution_count": 139
        }
      ]
    },
    {
      "cell_type": "code",
      "metadata": {
        "id": "KU1ezSnBvp4q",
        "colab_type": "code",
        "colab": {}
      },
      "source": [
        "pos_count = pos.shape[0]\n",
        "neg_count = len(neg)\n",
        "neu_count =  neu.shape[0]"
      ],
      "execution_count": 0,
      "outputs": []
    },
    {
      "cell_type": "code",
      "metadata": {
        "id": "VoXU-0K3wsF2",
        "colab_type": "code",
        "outputId": "9020f6d6-de59-49f9-dec3-41afc0ead84e",
        "colab": {
          "base_uri": "https://localhost:8080/",
          "height": 35
        }
      },
      "source": [
        "pos_count"
      ],
      "execution_count": 0,
      "outputs": [
        {
          "output_type": "execute_result",
          "data": {
            "text/plain": [
              "217"
            ]
          },
          "metadata": {
            "tags": []
          },
          "execution_count": 141
        }
      ]
    },
    {
      "cell_type": "code",
      "metadata": {
        "id": "Q-QAtmEXwysz",
        "colab_type": "code",
        "outputId": "ce4f992b-3c9e-4c7e-a84f-37725800494a",
        "colab": {
          "base_uri": "https://localhost:8080/",
          "height": 35
        }
      },
      "source": [
        "neg_count"
      ],
      "execution_count": 0,
      "outputs": [
        {
          "output_type": "execute_result",
          "data": {
            "text/plain": [
              "50"
            ]
          },
          "metadata": {
            "tags": []
          },
          "execution_count": 142
        }
      ]
    },
    {
      "cell_type": "code",
      "metadata": {
        "id": "ev3vTq1UwzhT",
        "colab_type": "code",
        "outputId": "35ce5e2d-5f47-4823-e244-4b471b724d04",
        "colab": {
          "base_uri": "https://localhost:8080/",
          "height": 35
        }
      },
      "source": [
        "neu_count"
      ],
      "execution_count": 0,
      "outputs": [
        {
          "output_type": "execute_result",
          "data": {
            "text/plain": [
              "36"
            ]
          },
          "metadata": {
            "tags": []
          },
          "execution_count": 143
        }
      ]
    },
    {
      "cell_type": "code",
      "metadata": {
        "id": "uGLK9M6hxQYS",
        "colab_type": "code",
        "outputId": "67aede01-4a9a-4380-c5d0-6ff5b4429c83",
        "colab": {
          "base_uri": "https://localhost:8080/",
          "height": 35
        }
      },
      "source": [
        "pos['DISPLAY'].unique()"
      ],
      "execution_count": 0,
      "outputs": [
        {
          "output_type": "execute_result",
          "data": {
            "text/plain": [
              "array(['CONTROL', 'L2R', 'R2L'], dtype=object)"
            ]
          },
          "metadata": {
            "tags": []
          },
          "execution_count": 144
        }
      ]
    },
    {
      "cell_type": "code",
      "metadata": {
        "id": "Y0iJ6ISXw0kk",
        "colab_type": "code",
        "outputId": "fc46b099-eef9-4889-d2ce-35223eec2f36",
        "colab": {
          "base_uri": "https://localhost:8080/",
          "height": 171
        }
      },
      "source": [
        "control_pos = pos.groupby('DISPLAY').count()\n",
        "control_pos"
      ],
      "execution_count": 0,
      "outputs": [
        {
          "output_type": "execute_result",
          "data": {
            "text/html": [
              "<div>\n",
              "<style scoped>\n",
              "    .dataframe tbody tr th:only-of-type {\n",
              "        vertical-align: middle;\n",
              "    }\n",
              "\n",
              "    .dataframe tbody tr th {\n",
              "        vertical-align: top;\n",
              "    }\n",
              "\n",
              "    .dataframe thead th {\n",
              "        text-align: right;\n",
              "    }\n",
              "</style>\n",
              "<table border=\"1\" class=\"dataframe\">\n",
              "  <thead>\n",
              "    <tr style=\"text-align: right;\">\n",
              "      <th></th>\n",
              "      <th>ID</th>\n",
              "      <th>text</th>\n",
              "      <th>Sentiment Score</th>\n",
              "      <th>Sentiment group</th>\n",
              "      <th>lemmatize</th>\n",
              "    </tr>\n",
              "    <tr>\n",
              "      <th>DISPLAY</th>\n",
              "      <th></th>\n",
              "      <th></th>\n",
              "      <th></th>\n",
              "      <th></th>\n",
              "      <th></th>\n",
              "    </tr>\n",
              "  </thead>\n",
              "  <tbody>\n",
              "    <tr>\n",
              "      <th>CONTROL</th>\n",
              "      <td>72</td>\n",
              "      <td>72</td>\n",
              "      <td>72</td>\n",
              "      <td>72</td>\n",
              "      <td>72</td>\n",
              "    </tr>\n",
              "    <tr>\n",
              "      <th>L2R</th>\n",
              "      <td>75</td>\n",
              "      <td>75</td>\n",
              "      <td>75</td>\n",
              "      <td>75</td>\n",
              "      <td>75</td>\n",
              "    </tr>\n",
              "    <tr>\n",
              "      <th>R2L</th>\n",
              "      <td>70</td>\n",
              "      <td>70</td>\n",
              "      <td>70</td>\n",
              "      <td>70</td>\n",
              "      <td>70</td>\n",
              "    </tr>\n",
              "  </tbody>\n",
              "</table>\n",
              "</div>"
            ],
            "text/plain": [
              "         ID  text  Sentiment Score  Sentiment group  lemmatize\n",
              "DISPLAY                                                       \n",
              "CONTROL  72    72               72               72         72\n",
              "L2R      75    75               75               75         75\n",
              "R2L      70    70               70               70         70"
            ]
          },
          "metadata": {
            "tags": []
          },
          "execution_count": 145
        }
      ]
    },
    {
      "cell_type": "code",
      "metadata": {
        "id": "zeOZFQmWxeky",
        "colab_type": "code",
        "outputId": "e0ce0e69-3630-4b64-9fc3-aca5d4935b3a",
        "colab": {
          "base_uri": "https://localhost:8080/",
          "height": 171
        }
      },
      "source": [
        "count_neg = neg.groupby('DISPLAY').count()\n",
        "count_neg"
      ],
      "execution_count": 0,
      "outputs": [
        {
          "output_type": "execute_result",
          "data": {
            "text/html": [
              "<div>\n",
              "<style scoped>\n",
              "    .dataframe tbody tr th:only-of-type {\n",
              "        vertical-align: middle;\n",
              "    }\n",
              "\n",
              "    .dataframe tbody tr th {\n",
              "        vertical-align: top;\n",
              "    }\n",
              "\n",
              "    .dataframe thead th {\n",
              "        text-align: right;\n",
              "    }\n",
              "</style>\n",
              "<table border=\"1\" class=\"dataframe\">\n",
              "  <thead>\n",
              "    <tr style=\"text-align: right;\">\n",
              "      <th></th>\n",
              "      <th>ID</th>\n",
              "      <th>text</th>\n",
              "      <th>Sentiment Score</th>\n",
              "      <th>Sentiment group</th>\n",
              "      <th>lemmatize</th>\n",
              "    </tr>\n",
              "    <tr>\n",
              "      <th>DISPLAY</th>\n",
              "      <th></th>\n",
              "      <th></th>\n",
              "      <th></th>\n",
              "      <th></th>\n",
              "      <th></th>\n",
              "    </tr>\n",
              "  </thead>\n",
              "  <tbody>\n",
              "    <tr>\n",
              "      <th>CONTROL</th>\n",
              "      <td>15</td>\n",
              "      <td>15</td>\n",
              "      <td>15</td>\n",
              "      <td>15</td>\n",
              "      <td>15</td>\n",
              "    </tr>\n",
              "    <tr>\n",
              "      <th>L2R</th>\n",
              "      <td>16</td>\n",
              "      <td>16</td>\n",
              "      <td>16</td>\n",
              "      <td>16</td>\n",
              "      <td>16</td>\n",
              "    </tr>\n",
              "    <tr>\n",
              "      <th>R2L</th>\n",
              "      <td>19</td>\n",
              "      <td>19</td>\n",
              "      <td>19</td>\n",
              "      <td>19</td>\n",
              "      <td>19</td>\n",
              "    </tr>\n",
              "  </tbody>\n",
              "</table>\n",
              "</div>"
            ],
            "text/plain": [
              "         ID  text  Sentiment Score  Sentiment group  lemmatize\n",
              "DISPLAY                                                       \n",
              "CONTROL  15    15               15               15         15\n",
              "L2R      16    16               16               16         16\n",
              "R2L      19    19               19               19         19"
            ]
          },
          "metadata": {
            "tags": []
          },
          "execution_count": 146
        }
      ]
    },
    {
      "cell_type": "code",
      "metadata": {
        "id": "VDVwMyM7x1l6",
        "colab_type": "code",
        "outputId": "adbd3b0c-abc6-4e3b-cf26-e5c926ae269b",
        "colab": {
          "base_uri": "https://localhost:8080/",
          "height": 171
        }
      },
      "source": [
        "count_neu = neu.groupby('DISPLAY').count()\n",
        "count_neu"
      ],
      "execution_count": 0,
      "outputs": [
        {
          "output_type": "execute_result",
          "data": {
            "text/html": [
              "<div>\n",
              "<style scoped>\n",
              "    .dataframe tbody tr th:only-of-type {\n",
              "        vertical-align: middle;\n",
              "    }\n",
              "\n",
              "    .dataframe tbody tr th {\n",
              "        vertical-align: top;\n",
              "    }\n",
              "\n",
              "    .dataframe thead th {\n",
              "        text-align: right;\n",
              "    }\n",
              "</style>\n",
              "<table border=\"1\" class=\"dataframe\">\n",
              "  <thead>\n",
              "    <tr style=\"text-align: right;\">\n",
              "      <th></th>\n",
              "      <th>ID</th>\n",
              "      <th>text</th>\n",
              "      <th>Sentiment Score</th>\n",
              "      <th>Sentiment group</th>\n",
              "      <th>lemmatize</th>\n",
              "    </tr>\n",
              "    <tr>\n",
              "      <th>DISPLAY</th>\n",
              "      <th></th>\n",
              "      <th></th>\n",
              "      <th></th>\n",
              "      <th></th>\n",
              "      <th></th>\n",
              "    </tr>\n",
              "  </thead>\n",
              "  <tbody>\n",
              "    <tr>\n",
              "      <th>CONTROL</th>\n",
              "      <td>14</td>\n",
              "      <td>14</td>\n",
              "      <td>14</td>\n",
              "      <td>14</td>\n",
              "      <td>14</td>\n",
              "    </tr>\n",
              "    <tr>\n",
              "      <th>L2R</th>\n",
              "      <td>10</td>\n",
              "      <td>10</td>\n",
              "      <td>10</td>\n",
              "      <td>10</td>\n",
              "      <td>10</td>\n",
              "    </tr>\n",
              "    <tr>\n",
              "      <th>R2L</th>\n",
              "      <td>12</td>\n",
              "      <td>12</td>\n",
              "      <td>12</td>\n",
              "      <td>12</td>\n",
              "      <td>12</td>\n",
              "    </tr>\n",
              "  </tbody>\n",
              "</table>\n",
              "</div>"
            ],
            "text/plain": [
              "         ID  text  Sentiment Score  Sentiment group  lemmatize\n",
              "DISPLAY                                                       \n",
              "CONTROL  14    14               14               14         14\n",
              "L2R      10    10               10               10         10\n",
              "R2L      12    12               12               12         12"
            ]
          },
          "metadata": {
            "tags": []
          },
          "execution_count": 147
        }
      ]
    },
    {
      "cell_type": "code",
      "metadata": {
        "id": "X6JJFbipx95t",
        "colab_type": "code",
        "outputId": "63fa4e0f-fd91-4c8e-8480-f4f52eb5d568",
        "colab": {
          "base_uri": "https://localhost:8080/",
          "height": 171
        }
      },
      "source": [
        "sentiment.groupby('DISPLAY').mean()"
      ],
      "execution_count": 0,
      "outputs": [
        {
          "output_type": "execute_result",
          "data": {
            "text/html": [
              "<div>\n",
              "<style scoped>\n",
              "    .dataframe tbody tr th:only-of-type {\n",
              "        vertical-align: middle;\n",
              "    }\n",
              "\n",
              "    .dataframe tbody tr th {\n",
              "        vertical-align: top;\n",
              "    }\n",
              "\n",
              "    .dataframe thead th {\n",
              "        text-align: right;\n",
              "    }\n",
              "</style>\n",
              "<table border=\"1\" class=\"dataframe\">\n",
              "  <thead>\n",
              "    <tr style=\"text-align: right;\">\n",
              "      <th></th>\n",
              "      <th>ID</th>\n",
              "      <th>Sentiment Score</th>\n",
              "    </tr>\n",
              "    <tr>\n",
              "      <th>DISPLAY</th>\n",
              "      <th></th>\n",
              "      <th></th>\n",
              "    </tr>\n",
              "  </thead>\n",
              "  <tbody>\n",
              "    <tr>\n",
              "      <th>CONTROL</th>\n",
              "      <td>152.108911</td>\n",
              "      <td>0.226141</td>\n",
              "    </tr>\n",
              "    <tr>\n",
              "      <th>L2R</th>\n",
              "      <td>153.009901</td>\n",
              "      <td>0.252900</td>\n",
              "    </tr>\n",
              "    <tr>\n",
              "      <th>R2L</th>\n",
              "      <td>150.881188</td>\n",
              "      <td>0.220921</td>\n",
              "    </tr>\n",
              "  </tbody>\n",
              "</table>\n",
              "</div>"
            ],
            "text/plain": [
              "                 ID  Sentiment Score\n",
              "DISPLAY                             \n",
              "CONTROL  152.108911         0.226141\n",
              "L2R      153.009901         0.252900\n",
              "R2L      150.881188         0.220921"
            ]
          },
          "metadata": {
            "tags": []
          },
          "execution_count": 84
        }
      ]
    },
    {
      "cell_type": "code",
      "metadata": {
        "id": "iFNcvVv_0_mU",
        "colab_type": "code",
        "outputId": "3d4332ce-dcca-4503-c715-902fa918e3a4",
        "colab": {
          "base_uri": "https://localhost:8080/",
          "height": 104
        }
      },
      "source": [
        "vectorizer_ = CountVectorizer(min_df=5, max_df=0.9, stop_words='english', lowercase=True, token_pattern='[a-zA-Z\\-][a-zA-Z\\-]{2,}')\n",
        "pos_vectorized = vectorizer_.fit_transform(pos['lemmatize'])\n",
        "lda_ = LatentDirichletAllocation(n_components=3, max_iter=5, learning_method='online',verbose=True)\n",
        "pos_lda = lda_.fit_transform(pos_vectorized)"
      ],
      "execution_count": 0,
      "outputs": [
        {
          "output_type": "stream",
          "text": [
            "iteration: 1 of max_iter: 5\n",
            "iteration: 2 of max_iter: 5\n",
            "iteration: 3 of max_iter: 5\n",
            "iteration: 4 of max_iter: 5\n",
            "iteration: 5 of max_iter: 5\n"
          ],
          "name": "stdout"
        }
      ]
    },
    {
      "cell_type": "code",
      "metadata": {
        "id": "0zmSf7TG2I5O",
        "colab_type": "code",
        "colab": {}
      },
      "source": [
        "topic_vector =  selected_topics(lda_, vectorizer_)"
      ],
      "execution_count": 0,
      "outputs": []
    },
    {
      "cell_type": "code",
      "metadata": {
        "id": "f92oZ1IN2LLk",
        "colab_type": "code",
        "colab": {}
      },
      "source": [
        "pos_topic_vector = pd.DataFrame(topic_vector)\n",
        "pos_topic_vector.to_excel(\"pos_3topic_vector.xlsx\")"
      ],
      "execution_count": 0,
      "outputs": []
    },
    {
      "cell_type": "code",
      "metadata": {
        "id": "1U9qKCAr2S7v",
        "colab_type": "code",
        "outputId": "e1297494-7d48-4ae2-e965-512831184cf6",
        "colab": {
          "base_uri": "https://localhost:8080/",
          "height": 104
        }
      },
      "source": [
        "vectorizer_ = CountVectorizer(min_df=5, max_df=0.9, stop_words='english', lowercase=True, token_pattern='[a-zA-Z\\-][a-zA-Z\\-]{2,}')\n",
        "neg_vectorized = vectorizer_.fit_transform(neg['lemmatize'])\n",
        "lda_ = LatentDirichletAllocation(n_components=2, max_iter=5, learning_method='online',verbose=True)\n",
        "neg_lda = lda_.fit_transform(neg_vectorized)"
      ],
      "execution_count": 0,
      "outputs": [
        {
          "output_type": "stream",
          "text": [
            "iteration: 1 of max_iter: 5\n",
            "iteration: 2 of max_iter: 5\n",
            "iteration: 3 of max_iter: 5\n",
            "iteration: 4 of max_iter: 5\n",
            "iteration: 5 of max_iter: 5\n"
          ],
          "name": "stdout"
        }
      ]
    },
    {
      "cell_type": "code",
      "metadata": {
        "id": "6av4ckXk2by0",
        "colab_type": "code",
        "colab": {}
      },
      "source": [
        "topic_vector =  selected_topics(lda_, vectorizer_)"
      ],
      "execution_count": 0,
      "outputs": []
    },
    {
      "cell_type": "code",
      "metadata": {
        "id": "Nl1ufibH2dgG",
        "colab_type": "code",
        "colab": {}
      },
      "source": [
        "neg_topic_vector = pd.DataFrame(topic_vector)\n",
        "neg_topic_vector.to_excel(\"neg_2topic_vector.xlsx\")"
      ],
      "execution_count": 0,
      "outputs": []
    },
    {
      "cell_type": "code",
      "metadata": {
        "id": "oXo6OhFH2iUs",
        "colab_type": "code",
        "colab": {}
      },
      "source": [
        ""
      ],
      "execution_count": 0,
      "outputs": []
    }
  ]
}